{
 "cells": [
  {
   "cell_type": "code",
   "execution_count": 5,
   "id": "ecc8495c",
   "metadata": {},
   "outputs": [],
   "source": [
    "class Stack: #uses Stack DS\n",
    "    def __init__(self): # initializes an empty list to store the items\n",
    "        self.items = []\n",
    "\n",
    "    def push(self, item): #method takes an item as input and appends it to the end of the list.\n",
    "        self.items.append(item)\n",
    "\n",
    "    def pop(self): #method removes and returns the last item from the list if the stack is not empty.\n",
    "        if not self.is_empty():\n",
    "            return self.items.pop()\n",
    "\n",
    "    def is_empty(self): #method checks whether the stack is empty and returns a boolean value accordingly\n",
    "        return len(self.items) == 0"
   ]
  },
  {
   "cell_type": "code",
   "execution_count": 6,
   "id": "00a21012",
   "metadata": {},
   "outputs": [
    {
     "name": "stdout",
     "output_type": "stream",
     "text": [
      "Move disk 1 from rod 0 to rod 1\n",
      "Move disk 2 from rod 0 to rod 2\n",
      "Move disk 1 from rod 1 to rod 2\n",
      "Move disk 3 from rod 0 to rod 1\n",
      "Move disk 1 from rod 2 to rod 0\n",
      "Move disk 2 from rod 2 to rod 1\n",
      "Move disk 1 from rod 0 to rod 1\n",
      "Move disk 4 from rod 0 to rod 2\n",
      "Move disk 1 from rod 1 to rod 2\n",
      "Move disk 2 from rod 1 to rod 0\n",
      "Move disk 1 from rod 2 to rod 0\n",
      "Move disk 3 from rod 1 to rod 2\n",
      "Move disk 1 from rod 0 to rod 1\n",
      "Move disk 2 from rod 0 to rod 2\n",
      "Move disk 1 from rod 1 to rod 2\n"
     ]
    }
   ],
   "source": [
    "def TowerOfHanoi(n, from_rod, to_rod, aux_rod): #n=no.of disks\n",
    "    stack = Stack() # a stack object of the Stack class is created, \n",
    "    done = False #along with a boolean variable done initialized as False.\n",
    "\n",
    "    while not done:\n",
    "        if n > 0:\n",
    "            stack.push((n, from_rod, to_rod, aux_rod))\n",
    "            n -= 1\n",
    "            from_rod, to_rod, aux_rod = from_rod, aux_rod, to_rod\n",
    "        else:\n",
    "            if not stack.is_empty():\n",
    "                n, from_rod, to_rod, aux_rod = stack.pop()\n",
    "                print(\"Move disk\", n, \"from rod\", from_rod, \"to rod\", to_rod)\n",
    "                n -= 1\n",
    "                from_rod, to_rod, aux_rod = aux_rod, to_rod, from_rod\n",
    "            else:\n",
    "                done = True\n",
    "TowerOfHanoi(4, '0', '2', '1')"
   ]
  },
  {
   "cell_type": "code",
   "execution_count": 7,
   "id": "0f3e82dd",
   "metadata": {},
   "outputs": [
    {
     "name": "stdout",
     "output_type": "stream",
     "text": [
      "Number of Moves:  15\n"
     ]
    }
   ],
   "source": [
    "n = 4\n",
    "print(\"Number of Moves: \", 2**n-1)"
   ]
  },
  {
   "cell_type": "code",
   "execution_count": null,
   "id": "f263108a",
   "metadata": {},
   "outputs": [],
   "source": []
  }
 ],
 "metadata": {
  "kernelspec": {
   "display_name": "Python 3 (ipykernel)",
   "language": "python",
   "name": "python3"
  },
  "language_info": {
   "codemirror_mode": {
    "name": "ipython",
    "version": 3
   },
   "file_extension": ".py",
   "mimetype": "text/x-python",
   "name": "python",
   "nbconvert_exporter": "python",
   "pygments_lexer": "ipython3",
   "version": "3.10.9"
  }
 },
 "nbformat": 4,
 "nbformat_minor": 5
}
