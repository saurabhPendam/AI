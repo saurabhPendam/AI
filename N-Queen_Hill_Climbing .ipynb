{
 "cells": [
  {
   "cell_type": "code",
   "execution_count": 1,
   "id": "2abbfc37",
   "metadata": {},
   "outputs": [],
   "source": [
    "import numpy as np\n",
    "import random"
   ]
  },
  {
   "cell_type": "code",
   "execution_count": 2,
   "id": "a63a52e8",
   "metadata": {},
   "outputs": [],
   "source": [
    "def random_state(n): #Function which takes an integer 'n' as input. Represent the number of queens & size of the chessboard\n",
    "    \"\"\"\n",
    "    Return a radom intital state with n queens on an n x n board.\n",
    "    \"\"\"\n",
    "    return [random.randint(0,n-1) for _ in range(n)] #generates a random integers in the specified range.iterates n times, and the result is collected in a list"
   ]
  },
  {
   "cell_type": "code",
   "execution_count": 3,
   "id": "5b0f38cb",
   "metadata": {},
   "outputs": [],
   "source": [
    "def attacks(state): #Defines the 'attacks' function, which takes a state list as input\n",
    "    \"\"\"\n",
    "    Returns the number of queen attacks in the given state.\n",
    "    \"\"\"\n",
    "    \n",
    "    n = len(state) #calculate the size of the chessboard\n",
    "    count = 0 #to keep track of the no. of queen attacks\n",
    "    for i in range(n): #iterats over each row\n",
    "        for j in range(i+1, n): #iterates over each row below the current row 'i'\n",
    "            if state[i] == state[j] or abs(i - j) == abs(state[i] - state[j]): #checks if there is queen attack between the queen in row'i' and 'j'.or in the same diagonal\n",
    "                count += 1  #if a queen is detected, the variable is incremented by 1\n",
    "    return count #return the total no.of queen attacks"
   ]
  },
  {
   "cell_type": "code",
   "execution_count": 4,
   "id": "7d5351f8",
   "metadata": {},
   "outputs": [
    {
     "name": "stdout",
     "output_type": "stream",
     "text": [
      "[1, 3, 0, 2]\n"
     ]
    }
   ],
   "source": [
    "def hill_climbing(n):\n",
    "    \"\"\"\n",
    "    Solve the n-queens problem using the hill climbing approach.\n",
    "    \"\"\"\n",
    "    \n",
    "    current = random_state(n) #represents the column position of the queen\n",
    "    while True:\n",
    "        neighbors = [] #empty list to store the neighboring states of the current state\n",
    "        for col in range(n): #iterates over each col\n",
    "            for row in range(n): #iterates over each row\n",
    "                if current[col] != row: #ensuring that the new state is differrent from the current state\n",
    "                    neighbor = list(current) #This line creates a copy of the current state using the list() function\n",
    "                    neighbor[col] = row # modifying neighbor placing a queen in the current column col at the new row row.\n",
    "                    neighbors.append(neighbor)\n",
    "        if not neighbors: #checks if there are neighbors to improve or not\n",
    "            break\n",
    "        neighbor = min(neighbors, key = attacks) #neighbor with the minimum number of queen attacks\n",
    "        if(attacks(neighbor) >= attacks(current)): #it indicates that the current state is already at or near a local minimum, and the loop breaks\n",
    "            break\n",
    "        current = neighbor #representing to move to a better state with fewer queen attacks\n",
    "    return current\n",
    "\n",
    "print(hill_climbing(4))\n"
   ]
  },
  {
   "cell_type": "code",
   "execution_count": 5,
   "id": "d1a75dbf",
   "metadata": {},
   "outputs": [
    {
     "data": {
      "text/plain": [
       "array([[0., 1., 0., 0.],\n",
       "       [0., 0., 0., 1.],\n",
       "       [1., 0., 0., 0.],\n",
       "       [0., 0., 1., 0.]])"
      ]
     },
     "execution_count": 5,
     "metadata": {},
     "output_type": "execute_result"
    }
   ],
   "source": [
    "board = np.zeros((4,4))\n",
    "sol = list(hill_climbing(4))\n",
    "for i in range(len(sol)):\n",
    "    board[sol[i]][i]=1\n",
    "board"
   ]
  },
  {
   "cell_type": "code",
   "execution_count": null,
   "id": "2c2857d1",
   "metadata": {},
   "outputs": [],
   "source": []
  },
  {
   "cell_type": "code",
   "execution_count": null,
   "id": "0e87556a",
   "metadata": {},
   "outputs": [],
   "source": []
  }
 ],
 "metadata": {
  "kernelspec": {
   "display_name": "Python 3 (ipykernel)",
   "language": "python",
   "name": "python3"
  },
  "language_info": {
   "codemirror_mode": {
    "name": "ipython",
    "version": 3
   },
   "file_extension": ".py",
   "mimetype": "text/x-python",
   "name": "python",
   "nbconvert_exporter": "python",
   "pygments_lexer": "ipython3",
   "version": "3.10.9"
  }
 },
 "nbformat": 4,
 "nbformat_minor": 5
}
