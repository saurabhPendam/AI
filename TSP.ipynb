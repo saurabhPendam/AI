{
 "cells": [
  {
   "cell_type": "code",
   "execution_count": 1,
   "id": "09d11b61",
   "metadata": {},
   "outputs": [],
   "source": [
    "import random"
   ]
  },
  {
   "cell_type": "code",
   "execution_count": 2,
   "id": "78865113",
   "metadata": {},
   "outputs": [
    {
     "name": "stdout",
     "output_type": "stream",
     "text": [
      "[[66, 63, 93, 29], [70, 72, 7, 18], [93, 50, 98, 37], [70, 83, 26, 3]]\n"
     ]
    }
   ],
   "source": [
    "adj = [] \n",
    "for i in range(4):\n",
    "    adj.append(random.sample(range(100),4))#The function selects four unique random numbers form the range 0 to 99\n",
    "print(adj)"
   ]
  },
  {
   "cell_type": "code",
   "execution_count": 3,
   "id": "20ce5db9",
   "metadata": {},
   "outputs": [
    {
     "name": "stdout",
     "output_type": "stream",
     "text": [
      "[[999, 63, 93, 29], [70, 999, 7, 18], [93, 50, 999, 37], [70, 83, 26, 999]]\n"
     ]
    }
   ],
   "source": [
    "for i in range(len(adj)):\n",
    "    for j in range(len(adj[i])):\n",
    "        if i == j: #Iterates over the elements of the list 'adj' and check if the row index == column index and set to 999\n",
    "            adj[i][j] = 999\n",
    "print(adj)"
   ]
  },
  {
   "cell_type": "code",
   "execution_count": 4,
   "id": "53b6de6f",
   "metadata": {},
   "outputs": [
    {
     "data": {
      "text/plain": [
       "array([[999,  63,  93,  29],\n",
       "       [ 70, 999,   7,  18],\n",
       "       [ 93,  50, 999,  37],\n",
       "       [ 70,  83,  26, 999]])"
      ]
     },
     "execution_count": 4,
     "metadata": {},
     "output_type": "execute_result"
    }
   ],
   "source": [
    "import numpy as np\n",
    "np.array(adj)"
   ]
  },
  {
   "cell_type": "code",
   "execution_count": 5,
   "id": "3a33d21c",
   "metadata": {},
   "outputs": [
    {
     "data": {
      "text/plain": [
       "29"
      ]
     },
     "execution_count": 5,
     "metadata": {},
     "output_type": "execute_result"
    }
   ],
   "source": [
    "min(adj[0])"
   ]
  },
  {
   "cell_type": "code",
   "execution_count": 6,
   "id": "8891ac07",
   "metadata": {},
   "outputs": [
    {
     "data": {
      "text/plain": [
       "[[999, 63, 93, 29], [70, 999, 7, 18], [93, 50, 999, 37], [70, 83, 26, 999]]"
      ]
     },
     "execution_count": 6,
     "metadata": {},
     "output_type": "execute_result"
    }
   ],
   "source": [
    "adj"
   ]
  },
  {
   "cell_type": "code",
   "execution_count": 7,
   "id": "7ec04dd0",
   "metadata": {},
   "outputs": [
    {
     "name": "stdout",
     "output_type": "stream",
     "text": [
      "0\n"
     ]
    }
   ],
   "source": [
    "start = int(input()) #The input() function is used to read a line of text from the user's input."
   ]
  },
  {
   "cell_type": "code",
   "execution_count": 8,
   "id": "6f534d99",
   "metadata": {},
   "outputs": [
    {
     "name": "stdout",
     "output_type": "stream",
     "text": [
      "[[999  63  93  29]\n",
      " [999 999   7  18]\n",
      " [999  50 999  37]\n",
      " [999  83  26 999]]\n",
      "3\n",
      "[[999  63  93 999]\n",
      " [999 999   7 999]\n",
      " [999  50 999 999]\n",
      " [999  83  26 999]]\n",
      "2\n",
      "[[999  63 999 999]\n",
      " [999 999 999 999]\n",
      " [999  50 999 999]\n",
      " [999  83 999 999]]\n",
      "1\n"
     ]
    }
   ],
   "source": [
    "visited = [] #empty list to keep track of visited nodes\n",
    "dist = 0 #distance variable to 0\n",
    "visited.append(start) #Add the start node to visited list\n",
    "while list(set(visited)) != [i for i in range(len(adj))]: #continue the loop until all nodes have been visited\n",
    "    for i in range(len(adj)): #Iterates over the indices of the 'adj' matrix\n",
    "        adj[i][visited[-1]] = 999 #set the value of the current node in the 'adj' matrix to 999. This marks the node as visited by making its distance from any other node effectively infinite\n",
    "    nxt = adj[visited[-1]].index(min(adj[visited[-1]]))#Find the index of the next node to visit by getting the index of the minimum value in the row\n",
    "    dist += min(adj[visited[-1]]) #Add the mininum value in the row of the last visited node to the 'dist' variable incrementing the distance travelled.\n",
    "    print(np.array(adj)) #print the current state of the 'adj' matrix\n",
    "    print(nxt) #print the index of the next node to be visited\n",
    "    visited.append(nxt) #Add the node to the 'visited' list\n",
    "    continue"
   ]
  },
  {
   "cell_type": "code",
   "execution_count": 9,
   "id": "56abf74c",
   "metadata": {},
   "outputs": [
    {
     "data": {
      "text/plain": [
       "105"
      ]
     },
     "execution_count": 9,
     "metadata": {},
     "output_type": "execute_result"
    }
   ],
   "source": [
    "dist"
   ]
  },
  {
   "cell_type": "code",
   "execution_count": 10,
   "id": "0ed4696e",
   "metadata": {},
   "outputs": [
    {
     "data": {
      "text/plain": [
       "[0, 3, 2, 1]"
      ]
     },
     "execution_count": 10,
     "metadata": {},
     "output_type": "execute_result"
    }
   ],
   "source": [
    "visited"
   ]
  },
  {
   "cell_type": "code",
   "execution_count": null,
   "id": "b472eab9",
   "metadata": {},
   "outputs": [],
   "source": []
  }
 ],
 "metadata": {
  "kernelspec": {
   "display_name": "Python 3 (ipykernel)",
   "language": "python",
   "name": "python3"
  },
  "language_info": {
   "codemirror_mode": {
    "name": "ipython",
    "version": 3
   },
   "file_extension": ".py",
   "mimetype": "text/x-python",
   "name": "python",
   "nbconvert_exporter": "python",
   "pygments_lexer": "ipython3",
   "version": "3.10.9"
  }
 },
 "nbformat": 4,
 "nbformat_minor": 5
}
