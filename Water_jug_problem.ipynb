{
 "cells": [
  {
   "cell_type": "code",
   "execution_count": null,
   "id": "93b37f76",
   "metadata": {},
   "outputs": [],
   "source": [
    "from collections import deque\n",
    "\n",
    "def solve(jug1,jug2,target):\n",
    "    \n",
    "    initial = (0,0)\n",
    "    actions = [\n",
    "        ('Fill Jug1',lambda state: (jug1,state[1])),\n",
    "        ('Fill Jug2',lambda state: (state[0],jug2)),\n",
    "        ('Empty Jug1', lambda state: (0,state[1])),\n",
    "        ('Empty Jug2', lambda state: (state[0],0)),\n",
    "        ('Pour Jug1 to Jug2', lambda state: (max(0,state[0]+state[1]-jug2),min(state[0]+state[1],jug2))),\n",
    "        ('Pour Jug2 to Jug1', lambda state: (min(state[0]+state[1],jug1),max(0,state[0]+state[1]-jug1)))\n",
    "    ]\n",
    "    \n",
    "    queue = deque()\n",
    "    queue.append((initial,[]))\n",
    "    visited = set()\n",
    "    \n",
    "    while queue:\n",
    "        curr,path = queue.popleft()\n",
    "        \n",
    "        if curr[0]==target or curr[1]==target:\n",
    "            return path\n",
    "        \n",
    "        for action,func in actions:\n",
    "            new = func(curr)\n",
    "            if new not in visited:\n",
    "                queue.append((new,path+[(action,new)]))\n",
    "                visited.add(new)\n",
    "    return None\n",
    "\n",
    "k = solve(4,3,2)\n",
    "print('Initial State:',(0,0))\n",
    "for i,j in k:\n",
    "    print(i,':',j)\n",
    "print('Goal state: ', k[-1][1])"
   ]
  },
  {
   "cell_type": "code",
   "execution_count": null,
   "id": "a3b1ffb2",
   "metadata": {},
   "outputs": [],
   "source": []
  }
 ],
 "metadata": {
  "kernelspec": {
   "display_name": "Python 3 (ipykernel)",
   "language": "python",
   "name": "python3"
  },
  "language_info": {
   "codemirror_mode": {
    "name": "ipython",
    "version": 3
   },
   "file_extension": ".py",
   "mimetype": "text/x-python",
   "name": "python",
   "nbconvert_exporter": "python",
   "pygments_lexer": "ipython3",
   "version": "3.10.9"
  }
 },
 "nbformat": 4,
 "nbformat_minor": 5
}
